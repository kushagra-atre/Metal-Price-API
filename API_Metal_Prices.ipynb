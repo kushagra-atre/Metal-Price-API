{
  "nbformat": 4,
  "nbformat_minor": 0,
  "metadata": {
    "colab": {
      "provenance": [],
      "authorship_tag": "ABX9TyNXQXk4ky/bptYrW1QLah3i",
      "include_colab_link": true
    },
    "kernelspec": {
      "name": "python3",
      "display_name": "Python 3"
    },
    "language_info": {
      "name": "python"
    },
    "widgets": {
      "application/vnd.jupyter.widget-state+json": {
        "7017aeea729c4d10b2149ac340384b2b": {
          "model_module": "@jupyter-widgets/controls",
          "model_name": "HBoxModel",
          "model_module_version": "1.5.0",
          "state": {
            "_dom_classes": [],
            "_model_module": "@jupyter-widgets/controls",
            "_model_module_version": "1.5.0",
            "_model_name": "HBoxModel",
            "_view_count": null,
            "_view_module": "@jupyter-widgets/controls",
            "_view_module_version": "1.5.0",
            "_view_name": "HBoxView",
            "box_style": "",
            "children": [
              "IPY_MODEL_db75c213dbf24d6a94c88a103b01eaa0",
              "IPY_MODEL_e1688ddfce31455293713accd2382017"
            ],
            "layout": "IPY_MODEL_5e164b5daaec4cdf92eafc928464587d"
          }
        },
        "db75c213dbf24d6a94c88a103b01eaa0": {
          "model_module": "@jupyter-widgets/controls",
          "model_name": "LabelModel",
          "model_module_version": "1.5.0",
          "state": {
            "_dom_classes": [],
            "_model_module": "@jupyter-widgets/controls",
            "_model_module_version": "1.5.0",
            "_model_name": "LabelModel",
            "_view_count": null,
            "_view_module": "@jupyter-widgets/controls",
            "_view_module_version": "1.5.0",
            "_view_name": "LabelView",
            "description": "",
            "description_tooltip": null,
            "layout": "IPY_MODEL_a4dcbfb4bf7843aca038b683b2a8fc6b",
            "placeholder": "​",
            "style": "IPY_MODEL_25cb226b3e5d40149688d8a86edafffc",
            "value": "Enter your API key:"
          }
        },
        "e1688ddfce31455293713accd2382017": {
          "model_module": "@jupyter-widgets/controls",
          "model_name": "PasswordModel",
          "model_module_version": "1.5.0",
          "state": {
            "_dom_classes": [],
            "_model_module": "@jupyter-widgets/controls",
            "_model_module_version": "1.5.0",
            "_model_name": "PasswordModel",
            "_view_count": null,
            "_view_module": "@jupyter-widgets/controls",
            "_view_module_version": "1.5.0",
            "_view_name": "PasswordView",
            "continuous_update": true,
            "description": "API Key:",
            "description_tooltip": null,
            "disabled": false,
            "layout": "IPY_MODEL_2e943afc82964b5ba865e59a9f5f7ab2",
            "placeholder": "​",
            "style": "IPY_MODEL_1b7fec8fa45d407b8a13267d335f3457",
            "value": "d45ac101b1a5e9fea482e31cf68538e0"
          }
        },
        "5e164b5daaec4cdf92eafc928464587d": {
          "model_module": "@jupyter-widgets/base",
          "model_name": "LayoutModel",
          "model_module_version": "1.2.0",
          "state": {
            "_model_module": "@jupyter-widgets/base",
            "_model_module_version": "1.2.0",
            "_model_name": "LayoutModel",
            "_view_count": null,
            "_view_module": "@jupyter-widgets/base",
            "_view_module_version": "1.2.0",
            "_view_name": "LayoutView",
            "align_content": null,
            "align_items": null,
            "align_self": null,
            "border": null,
            "bottom": null,
            "display": null,
            "flex": null,
            "flex_flow": null,
            "grid_area": null,
            "grid_auto_columns": null,
            "grid_auto_flow": null,
            "grid_auto_rows": null,
            "grid_column": null,
            "grid_gap": null,
            "grid_row": null,
            "grid_template_areas": null,
            "grid_template_columns": null,
            "grid_template_rows": null,
            "height": null,
            "justify_content": null,
            "justify_items": null,
            "left": null,
            "margin": null,
            "max_height": null,
            "max_width": null,
            "min_height": null,
            "min_width": null,
            "object_fit": null,
            "object_position": null,
            "order": null,
            "overflow": null,
            "overflow_x": null,
            "overflow_y": null,
            "padding": null,
            "right": null,
            "top": null,
            "visibility": null,
            "width": null
          }
        },
        "a4dcbfb4bf7843aca038b683b2a8fc6b": {
          "model_module": "@jupyter-widgets/base",
          "model_name": "LayoutModel",
          "model_module_version": "1.2.0",
          "state": {
            "_model_module": "@jupyter-widgets/base",
            "_model_module_version": "1.2.0",
            "_model_name": "LayoutModel",
            "_view_count": null,
            "_view_module": "@jupyter-widgets/base",
            "_view_module_version": "1.2.0",
            "_view_name": "LayoutView",
            "align_content": null,
            "align_items": null,
            "align_self": null,
            "border": null,
            "bottom": null,
            "display": null,
            "flex": null,
            "flex_flow": null,
            "grid_area": null,
            "grid_auto_columns": null,
            "grid_auto_flow": null,
            "grid_auto_rows": null,
            "grid_column": null,
            "grid_gap": null,
            "grid_row": null,
            "grid_template_areas": null,
            "grid_template_columns": null,
            "grid_template_rows": null,
            "height": null,
            "justify_content": null,
            "justify_items": null,
            "left": null,
            "margin": null,
            "max_height": null,
            "max_width": null,
            "min_height": null,
            "min_width": null,
            "object_fit": null,
            "object_position": null,
            "order": null,
            "overflow": null,
            "overflow_x": null,
            "overflow_y": null,
            "padding": null,
            "right": null,
            "top": null,
            "visibility": null,
            "width": null
          }
        },
        "25cb226b3e5d40149688d8a86edafffc": {
          "model_module": "@jupyter-widgets/controls",
          "model_name": "DescriptionStyleModel",
          "model_module_version": "1.5.0",
          "state": {
            "_model_module": "@jupyter-widgets/controls",
            "_model_module_version": "1.5.0",
            "_model_name": "DescriptionStyleModel",
            "_view_count": null,
            "_view_module": "@jupyter-widgets/base",
            "_view_module_version": "1.2.0",
            "_view_name": "StyleView",
            "description_width": ""
          }
        },
        "2e943afc82964b5ba865e59a9f5f7ab2": {
          "model_module": "@jupyter-widgets/base",
          "model_name": "LayoutModel",
          "model_module_version": "1.2.0",
          "state": {
            "_model_module": "@jupyter-widgets/base",
            "_model_module_version": "1.2.0",
            "_model_name": "LayoutModel",
            "_view_count": null,
            "_view_module": "@jupyter-widgets/base",
            "_view_module_version": "1.2.0",
            "_view_name": "LayoutView",
            "align_content": null,
            "align_items": null,
            "align_self": null,
            "border": null,
            "bottom": null,
            "display": null,
            "flex": null,
            "flex_flow": null,
            "grid_area": null,
            "grid_auto_columns": null,
            "grid_auto_flow": null,
            "grid_auto_rows": null,
            "grid_column": null,
            "grid_gap": null,
            "grid_row": null,
            "grid_template_areas": null,
            "grid_template_columns": null,
            "grid_template_rows": null,
            "height": null,
            "justify_content": null,
            "justify_items": null,
            "left": null,
            "margin": null,
            "max_height": null,
            "max_width": null,
            "min_height": null,
            "min_width": null,
            "object_fit": null,
            "object_position": null,
            "order": null,
            "overflow": null,
            "overflow_x": null,
            "overflow_y": null,
            "padding": null,
            "right": null,
            "top": null,
            "visibility": null,
            "width": null
          }
        },
        "1b7fec8fa45d407b8a13267d335f3457": {
          "model_module": "@jupyter-widgets/controls",
          "model_name": "DescriptionStyleModel",
          "model_module_version": "1.5.0",
          "state": {
            "_model_module": "@jupyter-widgets/controls",
            "_model_module_version": "1.5.0",
            "_model_name": "DescriptionStyleModel",
            "_view_count": null,
            "_view_module": "@jupyter-widgets/base",
            "_view_module_version": "1.2.0",
            "_view_name": "StyleView",
            "description_width": ""
          }
        }
      }
    }
  },
  "cells": [
    {
      "cell_type": "markdown",
      "metadata": {
        "id": "view-in-github",
        "colab_type": "text"
      },
      "source": [
        "<a href=\"https://colab.research.google.com/github/kushagra-atre/Metal-Price-API/blob/main/API_Metal_Prices.ipynb\" target=\"_parent\"><img src=\"https://colab.research.google.com/assets/colab-badge.svg\" alt=\"Open In Colab\"/></a>"
      ]
    },
    {
      "cell_type": "code",
      "source": [
        "from ipywidgets import Password, HBox, Label\n",
        "from IPython.display import display\n",
        "\n",
        "password_box = Password(description='API Key:')\n",
        "display(HBox([Label('Enter your API key:'), password_box]))\n",
        "\n"
      ],
      "metadata": {
        "colab": {
          "base_uri": "https://localhost:8080/",
          "height": 49,
          "referenced_widgets": [
            "7017aeea729c4d10b2149ac340384b2b",
            "db75c213dbf24d6a94c88a103b01eaa0",
            "e1688ddfce31455293713accd2382017",
            "5e164b5daaec4cdf92eafc928464587d",
            "a4dcbfb4bf7843aca038b683b2a8fc6b",
            "25cb226b3e5d40149688d8a86edafffc",
            "2e943afc82964b5ba865e59a9f5f7ab2",
            "1b7fec8fa45d407b8a13267d335f3457"
          ]
        },
        "id": "4aT4NkiPztvp",
        "outputId": "728e01c6-ec66-4bf0-cf30-702641c79706"
      },
      "execution_count": 18,
      "outputs": [
        {
          "output_type": "display_data",
          "data": {
            "text/plain": [
              "HBox(children=(Label(value='Enter your API key:'), Password(description='API Key:')))"
            ],
            "application/vnd.jupyter.widget-view+json": {
              "version_major": 2,
              "version_minor": 0,
              "model_id": "7017aeea729c4d10b2149ac340384b2b"
            }
          },
          "metadata": {}
        }
      ]
    },
    {
      "cell_type": "code",
      "source": [
        "import requests\n",
        "import pandas as pd\n",
        "from datetime import datetime, timedelta\n",
        "\n",
        "api_key = password_box.value\n",
        "\n",
        "start_date = datetime(2013, 1, 1)\n",
        "end_date = datetime(2023, 11, 3)\n",
        "\n",
        "data_chunks = []\n",
        "\n",
        "while start_date < end_date:\n",
        "    next_year_date = min(start_date + timedelta(days=365), end_date)\n",
        "\n",
        "    start_date_str = start_date.strftime('%Y-%m-%d')\n",
        "    next_year_date_str = next_year_date.strftime('%Y-%m-%d')\n",
        "\n",
        "\n",
        "    url = f'https://api.metalpriceapi.com/v1/timeframe?api_key={api_key}&start_date={start_date_str}&end_date={next_year_date_str}&base=USD&currencies=XAG'\n",
        "\n",
        "    response = requests.get(url)\n",
        "    if response.status_code == 200:\n",
        "      data = response.json()\n",
        "      if data.get('success'):\n",
        "        df = pd.DataFrame(data['rates']).T\n",
        "        data_chunks.append(df)\n",
        "      else:\n",
        "            print(f\"API request failed for {start_date_str} to {next_year_date_str}:\", data.get('error'))\n",
        "    else:\n",
        "        print(f\"Failed to fetch data for {start_date_str} to {next_year_date_str}:\", response.status_code)\n",
        "\n",
        "    start_date = next_year_date + timedelta(days=1)\n",
        "\n",
        "all_data = pd.concat(data_chunks)\n",
        "\n",
        "all_data.reset_index(inplace=True)\n",
        "all_data.rename(columns={'index': 'Date', 'XAG': 'Silver Price'}, inplace=True)\n",
        "\n",
        "\n",
        "all_data.to_csv('silver_prices_2013_2023.csv', index=False)\n",
        "\n",
        "print(\"Data fetching complete. The data is saved to 'silver_prices_2013_2023.csv'.\")\n",
        "\n"
      ],
      "metadata": {
        "colab": {
          "base_uri": "https://localhost:8080/"
        },
        "id": "3sxxgKUtxePX",
        "outputId": "7816f27d-901c-4bde-cad9-ffc64a3f5035"
      },
      "execution_count": 19,
      "outputs": [
        {
          "output_type": "stream",
          "name": "stdout",
          "text": [
            "Data fetching complete. The data is saved to 'silver_prices_2013_2023.csv'.\n"
          ]
        }
      ]
    },
    {
      "cell_type": "code",
      "source": [],
      "metadata": {
        "id": "gy2zECCH0OXS"
      },
      "execution_count": null,
      "outputs": []
    }
  ]
}