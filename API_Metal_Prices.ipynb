{
  "nbformat": 4,
  "nbformat_minor": 0,
  "metadata": {
    "colab": {
      "provenance": [],
      "authorship_tag": "ABX9TyNyUSMPDLYAnLJBluW8WTXz",
      "include_colab_link": true
    },
    "kernelspec": {
      "name": "python3",
      "display_name": "Python 3"
    },
    "language_info": {
      "name": "python"
    }
  },
  "cells": [
    {
      "cell_type": "markdown",
      "metadata": {
        "id": "view-in-github",
        "colab_type": "text"
      },
      "source": [
        "<a href=\"https://colab.research.google.com/github/kushagra-atre/Metal-Price-API/blob/main/API_Metal_Prices.ipynb\" target=\"_parent\"><img src=\"https://colab.research.google.com/assets/colab-badge.svg\" alt=\"Open In Colab\"/></a>"
      ]
    },
    {
      "cell_type": "code",
      "source": [
        "import requests\n",
        "import pandas as pd\n",
        "from datetime import datetime, timedelta\n",
        "\n",
        "api_key = 'd45ac101b1a5e9fea482e31cf68538e0'\n",
        "\n",
        "start_date = datetime(2013, 1, 1)\n",
        "end_date = datetime(2023, 11, 3)\n",
        "\n",
        "data_chunks = []\n",
        "\n",
        "while start_date < end_date:\n",
        "    next_year_date = min(start_date + timedelta(days=365), end_date)\n",
        "\n",
        "    start_date_str = start_date.strftime('%Y-%m-%d')\n",
        "    next_year_date_str = next_year_date.strftime('%Y-%m-%d')\n",
        "\n",
        "\n",
        "    url = f'https://api.metalpriceapi.com/v1/timeframe?api_key={api_key}&start_date={start_date_str}&end_date={next_year_date_str}&base=USD&currencies=XAG'\n",
        "\n",
        "    response = requests.get(url)\n",
        "    if response.status_code == 200:\n",
        "      data = response.json()\n",
        "      if data.get('success'):\n",
        "        df = pd.DataFrame(data['rates']).T\n",
        "        data_chunks.append(df)\n",
        "      else:\n",
        "            print(f\"API request failed for {start_date_str} to {next_year_date_str}:\", data.get('error'))\n",
        "    else:\n",
        "        print(f\"Failed to fetch data for {start_date_str} to {next_year_date_str}:\", response.status_code)\n",
        "\n",
        "    start_date = next_year_date + timedelta(days=1)\n",
        "\n",
        "all_data = pd.concat(data_chunks)\n",
        "\n",
        "all_data.reset_index(inplace=True)\n",
        "all_data.rename(columns={'index': 'Date', 'XAG': 'Silver Price'}, inplace=True)\n",
        "\n",
        "\n",
        "all_data.to_csv('silver_prices_2013_2023.csv', index=False)\n",
        "\n",
        "print(\"Data fetching complete. The data is saved to 'silver_prices_2013_2023.csv'.\")\n",
        "\n"
      ],
      "metadata": {
        "colab": {
          "base_uri": "https://localhost:8080/"
        },
        "id": "3sxxgKUtxePX",
        "outputId": "69b7598a-718c-4cbb-f123-5a3c535d261f"
      },
      "execution_count": 7,
      "outputs": [
        {
          "output_type": "stream",
          "name": "stdout",
          "text": [
            "Data fetching complete. The data is saved to 'silver_prices_2013_2023.csv'.\n"
          ]
        }
      ]
    },
    {
      "cell_type": "code",
      "source": [],
      "metadata": {
        "id": "IR7x5LvYxfUL"
      },
      "execution_count": null,
      "outputs": []
    }
  ]
}