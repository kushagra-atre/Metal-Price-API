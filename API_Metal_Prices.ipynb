{
  "nbformat": 4,
  "nbformat_minor": 0,
  "metadata": {
    "colab": {
      "provenance": [],
      "authorship_tag": "ABX9TyPxg8rc7iq5DsafM4AGfYsw",
      "include_colab_link": true
    },
    "kernelspec": {
      "name": "python3",
      "display_name": "Python 3"
    },
    "language_info": {
      "name": "python"
    }
  },
  "cells": [
    {
      "cell_type": "markdown",
      "metadata": {
        "id": "view-in-github",
        "colab_type": "text"
      },
      "source": [
        "<a href=\"https://colab.research.google.com/github/kushagra-atre/Metal-Price-API/blob/main/API_Metal_Prices.ipynb\" target=\"_parent\"><img src=\"https://colab.research.google.com/assets/colab-badge.svg\" alt=\"Open In Colab\"/></a>"
      ]
    },
    {
      "cell_type": "code",
      "source": [
        "import requests\n",
        "import pandas as pd\n",
        "from datetime import datetime, timedelta\n",
        "\n",
        "# Replace with your actual API key\n",
        "api_key = 'd45ac101b1a5e9fea482e31cf68538e0'\n",
        "\n",
        "# Initialize the start and end date for the loop\n",
        "start_date = datetime(2013, 1, 1)\n",
        "end_date = datetime(2023, 11, 3)\n",
        "\n",
        "# Initialize a list to store all the DataFrame chunks\n",
        "data_chunks = []\n",
        "\n",
        "while start_date < end_date:\n",
        "    # Calculate the next year's date or the end date, whichever is sooner\n",
        "    next_year_date = min(start_date + timedelta(days=365), end_date)\n",
        "\n",
        "    # Format dates as strings in the required format\n",
        "    start_date_str = start_date.strftime('%Y-%m-%d')\n",
        "    next_year_date_str = next_year_date.strftime('%Y-%m-%d')\n",
        "\n",
        "    # Construct the API URL\n",
        "    url = f'https://api.metalpriceapi.com/v1/timeframe?api_key={api_key}&start_date={start_date_str}&end_date={next_year_date_str}&base=USD&currencies=XAG'\n",
        "\n",
        "    # Make the GET request\n",
        "    response = requests.get(url)\n",
        "\n",
        "    # Check if the request was successful\n",
        "    if response.status_code == 200:\n",
        "        # Parse the JSON response\n",
        "        data = response.json()\n",
        "\n",
        "        # Check if the API request was successful\n",
        "        if data.get('success'):\n",
        "            # Convert the rates to a pandas DataFrame\n",
        "            df = pd.DataFrame(data['rates']).T\n",
        "            # Add the DataFrame to the list of chunks\n",
        "            data_chunks.append(df)\n",
        "        else:\n",
        "            print(f\"API request failed for {start_date_str} to {next_year_date_str}:\", data.get('error'))\n",
        "    else:\n",
        "        print(f\"Failed to fetch data for {start_date_str} to {next_year_date_str}:\", response.status_code)\n",
        "\n",
        "    # Update the start_date to the next year's date for the next iteration\n",
        "    start_date = next_year_date + timedelta(days=1)\n",
        "\n",
        "# Concatenate all the DataFrame chunks\n",
        "all_data = pd.concat(data_chunks)\n",
        "\n",
        "# Reset the index of the all_data DataFrame and rename the columns\n",
        "all_data.reset_index(inplace=True)\n",
        "all_data.rename(columns={'index': 'Date', 'XAG': 'Silver Price'}, inplace=True)\n",
        "\n",
        "# Save the DataFrame to a CSV file\n",
        "all_data.to_csv('silver_prices_2013_2023.csv', index=False)\n",
        "\n",
        "print(\"Data fetching complete. The data is saved to 'silver_prices_2013_2023.csv'.\")\n",
        "\n",
        "# Now you can proceed with your analysis and forecasting with the DataFrame `all_data`\n"
      ],
      "metadata": {
        "colab": {
          "base_uri": "https://localhost:8080/"
        },
        "id": "3sxxgKUtxePX",
        "outputId": "69b7598a-718c-4cbb-f123-5a3c535d261f"
      },
      "execution_count": 7,
      "outputs": [
        {
          "output_type": "stream",
          "name": "stdout",
          "text": [
            "Data fetching complete. The data is saved to 'silver_prices_2013_2023.csv'.\n"
          ]
        }
      ]
    },
    {
      "cell_type": "code",
      "source": [],
      "metadata": {
        "id": "IR7x5LvYxfUL"
      },
      "execution_count": null,
      "outputs": []
    }
  ]
}